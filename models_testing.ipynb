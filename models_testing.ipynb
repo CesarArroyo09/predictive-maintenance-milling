{
 "cells": [
  {
   "cell_type": "markdown",
   "metadata": {},
   "source": [
    "# Entrenamiento de modelos experimental\n",
    "\n",
    "El principal objetivo de esta notebook es experimentar con diferentes parámetros de los modelos y ver más o menos por dónde se encuentran los parámetros con mejor valor de predicción. Se excluyen los modelos de redes neuronales ya que su API es un poco diferent."
   ]
  },
  {
   "cell_type": "markdown",
   "metadata": {},
   "source": [
    "# Importar y cargar datos"
   ]
  },
  {
   "cell_type": "code",
   "execution_count": 1,
   "metadata": {},
   "outputs": [
    {
     "name": "stderr",
     "output_type": "stream",
     "text": [
      "2024-07-26 15:35:26.657253: I tensorflow/core/util/port.cc:153] oneDNN custom operations are on. You may see slightly different numerical results due to floating-point round-off errors from different computation orders. To turn them off, set the environment variable `TF_ENABLE_ONEDNN_OPTS=0`.\n",
      "2024-07-26 15:35:26.665387: I external/local_xla/xla/tsl/cuda/cudart_stub.cc:32] Could not find cuda drivers on your machine, GPU will not be used.\n",
      "2024-07-26 15:35:26.712034: I external/local_xla/xla/tsl/cuda/cudart_stub.cc:32] Could not find cuda drivers on your machine, GPU will not be used.\n",
      "2024-07-26 15:35:26.765089: E external/local_xla/xla/stream_executor/cuda/cuda_fft.cc:485] Unable to register cuFFT factory: Attempting to register factory for plugin cuFFT when one has already been registered\n",
      "2024-07-26 15:35:26.824504: E external/local_xla/xla/stream_executor/cuda/cuda_dnn.cc:8454] Unable to register cuDNN factory: Attempting to register factory for plugin cuDNN when one has already been registered\n",
      "2024-07-26 15:35:26.845316: E external/local_xla/xla/stream_executor/cuda/cuda_blas.cc:1452] Unable to register cuBLAS factory: Attempting to register factory for plugin cuBLAS when one has already been registered\n",
      "2024-07-26 15:35:26.931776: I tensorflow/core/platform/cpu_feature_guard.cc:210] This TensorFlow binary is optimized to use available CPU instructions in performance-critical operations.\n",
      "To enable the following instructions: AVX2 AVX_VNNI FMA, in other operations, rebuild TensorFlow with the appropriate compiler flags.\n",
      "2024-07-26 15:35:28.313310: W tensorflow/compiler/tf2tensorrt/utils/py_utils.cc:38] TF-TRT Warning: Could not find TensorRT\n"
     ]
    }
   ],
   "source": [
    "import os\n",
    "\n",
    "from mltools import models\n",
    "\n",
    "from sklearn.linear_model import LogisticRegression\n",
    "from sklearn.ensemble import RandomForestClassifier\n",
    "from sklearn.svm import SVC\n",
    "import pandas as pd"
   ]
  },
  {
   "cell_type": "code",
   "execution_count": 2,
   "metadata": {},
   "outputs": [],
   "source": [
    "# import tensorflow as tf\n",
    "# from tensorflow.keras.models import Sequential\n",
    "# from tensorflow.keras.layers import Dense\n",
    "# from tensorflow.keras.optimizers import Adam"
   ]
  },
  {
   "cell_type": "code",
   "execution_count": 3,
   "metadata": {},
   "outputs": [],
   "source": [
    "def generate_datasets_paths(suffix: str = None):\n",
    "    data_dir = 'data'\n",
    "    datasets = [\"X_train_extended\", \"X_test_extended\", \"y_train\", \"y_test\"]\n",
    "    if suffix:\n",
    "        datasets = [os.path.join(data_dir, f\"{dataset}_{suffix}.csv\") for dataset in datasets]\n",
    "    else:\n",
    "        datasets = [os.path.join(data_dir, f\"{dataset}.csv\") for dataset in datasets]\n",
    "    \n",
    "    return datasets"
   ]
  },
  {
   "cell_type": "code",
   "execution_count": 4,
   "metadata": {},
   "outputs": [],
   "source": [
    "def load_datasets(suffix: str = None):\n",
    "    datasets = generate_datasets_paths(suffix)\n",
    "    X_train = pd.read_csv(datasets[0])\n",
    "    X_test = pd.read_csv(datasets[1])\n",
    "    y_train = pd.read_csv(datasets[2])\n",
    "    y_test = pd.read_csv(datasets[3])\n",
    "    return X_train, X_test, y_train, y_test"
   ]
  },
  {
   "cell_type": "code",
   "execution_count": 5,
   "metadata": {},
   "outputs": [],
   "source": [
    "X_train, X_test, y_train, y_test = load_datasets()"
   ]
  },
  {
   "cell_type": "code",
   "execution_count": 6,
   "metadata": {},
   "outputs": [],
   "source": [
    "X_train = X_train.drop(columns=['Type_L', 'Type_M'])\n",
    "X_test = X_test.drop(columns=['Type_L', 'Type_M'])"
   ]
  },
  {
   "cell_type": "code",
   "execution_count": 7,
   "metadata": {},
   "outputs": [],
   "source": [
    "y_train = y_train['Failure type']\n",
    "y_test = y_test['Failure type']"
   ]
  },
  {
   "cell_type": "code",
   "execution_count": 8,
   "metadata": {},
   "outputs": [
    {
     "data": {
      "text/html": [
       "<div>\n",
       "<style scoped>\n",
       "    .dataframe tbody tr th:only-of-type {\n",
       "        vertical-align: middle;\n",
       "    }\n",
       "\n",
       "    .dataframe tbody tr th {\n",
       "        vertical-align: top;\n",
       "    }\n",
       "\n",
       "    .dataframe thead th {\n",
       "        text-align: right;\n",
       "    }\n",
       "</style>\n",
       "<table border=\"1\" class=\"dataframe\">\n",
       "  <thead>\n",
       "    <tr style=\"text-align: right;\">\n",
       "      <th></th>\n",
       "      <th>Air temperature [K]</th>\n",
       "      <th>Process temperature [K]</th>\n",
       "      <th>Rotational speed [rpm]</th>\n",
       "      <th>Torque [Nm]</th>\n",
       "      <th>Tool wear [min]</th>\n",
       "      <th>Temperature difference [K]</th>\n",
       "      <th>Rotational power</th>\n",
       "    </tr>\n",
       "  </thead>\n",
       "  <tbody>\n",
       "    <tr>\n",
       "      <th>0</th>\n",
       "      <td>-0.354642</td>\n",
       "      <td>-1.014674</td>\n",
       "      <td>-0.239039</td>\n",
       "      <td>-0.059097</td>\n",
       "      <td>-0.440162</td>\n",
       "      <td>-0.792467</td>\n",
       "      <td>-0.100567</td>\n",
       "    </tr>\n",
       "    <tr>\n",
       "      <th>1</th>\n",
       "      <td>-1.651210</td>\n",
       "      <td>-1.486322</td>\n",
       "      <td>0.593600</td>\n",
       "      <td>-0.539312</td>\n",
       "      <td>2.045097</td>\n",
       "      <td>1.102016</td>\n",
       "      <td>-0.295095</td>\n",
       "    </tr>\n",
       "    <tr>\n",
       "      <th>2</th>\n",
       "      <td>-1.002926</td>\n",
       "      <td>-1.284187</td>\n",
       "      <td>-1.110534</td>\n",
       "      <td>1.161451</td>\n",
       "      <td>1.400188</td>\n",
       "      <td>0.104919</td>\n",
       "      <td>0.891225</td>\n",
       "    </tr>\n",
       "    <tr>\n",
       "      <th>3</th>\n",
       "      <td>-0.753586</td>\n",
       "      <td>0.063378</td>\n",
       "      <td>1.498401</td>\n",
       "      <td>-1.109568</td>\n",
       "      <td>-1.383932</td>\n",
       "      <td>1.600564</td>\n",
       "      <td>-0.751564</td>\n",
       "    </tr>\n",
       "    <tr>\n",
       "      <th>4</th>\n",
       "      <td>0.094169</td>\n",
       "      <td>0.400269</td>\n",
       "      <td>-0.599849</td>\n",
       "      <td>0.231034</td>\n",
       "      <td>0.078911</td>\n",
       "      <td>0.404048</td>\n",
       "      <td>0.054690</td>\n",
       "    </tr>\n",
       "  </tbody>\n",
       "</table>\n",
       "</div>"
      ],
      "text/plain": [
       "   Air temperature [K]  Process temperature [K]  Rotational speed [rpm]  \\\n",
       "0            -0.354642                -1.014674               -0.239039   \n",
       "1            -1.651210                -1.486322                0.593600   \n",
       "2            -1.002926                -1.284187               -1.110534   \n",
       "3            -0.753586                 0.063378                1.498401   \n",
       "4             0.094169                 0.400269               -0.599849   \n",
       "\n",
       "   Torque [Nm]  Tool wear [min]  Temperature difference [K]  Rotational power  \n",
       "0    -0.059097        -0.440162                   -0.792467         -0.100567  \n",
       "1    -0.539312         2.045097                    1.102016         -0.295095  \n",
       "2     1.161451         1.400188                    0.104919          0.891225  \n",
       "3    -1.109568        -1.383932                    1.600564         -0.751564  \n",
       "4     0.231034         0.078911                    0.404048          0.054690  "
      ]
     },
     "execution_count": 8,
     "metadata": {},
     "output_type": "execute_result"
    }
   ],
   "source": [
    "X_train.head()"
   ]
  },
  {
   "cell_type": "code",
   "execution_count": 9,
   "metadata": {},
   "outputs": [
    {
     "data": {
      "text/plain": [
       "Failure type\n",
       "0    7722\n",
       "2      85\n",
       "3      64\n",
       "4      62\n",
       "1      34\n",
       "6      18\n",
       "5      15\n",
       "Name: count, dtype: int64"
      ]
     },
     "execution_count": 9,
     "metadata": {},
     "output_type": "execute_result"
    }
   ],
   "source": [
    "y_train.value_counts()"
   ]
  },
  {
   "cell_type": "markdown",
   "metadata": {},
   "source": []
  },
  {
   "cell_type": "markdown",
   "metadata": {},
   "source": [
    "# Experimentos con modelos"
   ]
  },
  {
   "cell_type": "markdown",
   "metadata": {},
   "source": [
    "## Regresión logística"
   ]
  },
  {
   "cell_type": "code",
   "execution_count": 10,
   "metadata": {},
   "outputs": [],
   "source": [
    "lr_params = {\n",
    "    'C': 1.0,                   # Regularization strength; must be a positive float. Smaller values specify stronger regularization.\n",
    "    'solver': 'lbfgs',          # Solver to use for optimization. 'lbfgs' is suitable for multiclass problems.\n",
    "    'max_iter': 1000,           # Maximum number of iterations to converge.\n",
    "    'multi_class': 'multinomial',  # Strategy to handle multiclass classification.\n",
    "    'random_state': 95,          # Random state for reproducibility.\n",
    "    'class_weight': 'balanced'  # Weights associated with classes; 'balanced' automatically adjusts weights inversely proportional to class frequencies\n",
    "}"
   ]
  },
  {
   "cell_type": "code",
   "execution_count": 12,
   "metadata": {},
   "outputs": [],
   "source": [
    "# Create a ModelWrapper instance for the LogisticRegression model\n",
    "lr_wrapper = models.ModelWrapper(\n",
    "    model_class=LogisticRegression,\n",
    "    params=lr_params,\n",
    "    name='logistic_regression_multiclass',\n",
    ")"
   ]
  },
  {
   "cell_type": "code",
   "execution_count": 13,
   "metadata": {},
   "outputs": [
    {
     "name": "stderr",
     "output_type": "stream",
     "text": [
      "/home/carroyo/personal_python_projects/predictive-maintenance-milling/tmp/venv/lib/python3.11/site-packages/sklearn/linear_model/_logistic.py:1247: FutureWarning: 'multi_class' was deprecated in version 1.5 and will be removed in 1.7. From then on, it will always use 'multinomial'. Leave it to its default value to avoid this warning.\n",
      "  warnings.warn(\n"
     ]
    },
    {
     "name": "stdout",
     "output_type": "stream",
     "text": [
      "logistic_regression_multiclass model fitted.\n",
      "Accuracy for logistic_regression_multiclass: 0.5855\n",
      "Classification Report for logistic_regression_multiclass:\n",
      "              precision    recall  f1-score   support\n",
      "\n",
      "           0       1.00      0.57      0.73      1930\n",
      "           1       0.06      1.00      0.11         9\n",
      "           2       0.22      0.90      0.35        21\n",
      "           3       0.35      1.00      0.52        16\n",
      "           4       0.22      0.88      0.35        16\n",
      "           5       0.00      0.33      0.00         3\n",
      "           6       0.36      0.80      0.50         5\n",
      "\n",
      "    accuracy                           0.59      2000\n",
      "   macro avg       0.31      0.78      0.36      2000\n",
      "weighted avg       0.97      0.59      0.72      2000\n",
      "\n",
      "\n",
      "Confusion Matrix for logistic_regression_multiclass:\n",
      "[[1108  147   68   30   50  522    5]\n",
      " [   0    9    0    0    0    0    0]\n",
      " [   0    2   19    0    0    0    0]\n",
      " [   0    0    0   16    0    0    0]\n",
      " [   0    0    0    0   14    0    2]\n",
      " [   2    0    0    0    0    1    0]\n",
      " [   0    0    0    0    1    0    4]]\n"
     ]
    }
   ],
   "source": [
    "# Fit the model\n",
    "lr_wrapper.fit(X_train, y_train)\n",
    "\n",
    "# Evaluate the model\n",
    "_ = lr_wrapper.evaluate(X_test, y_test)"
   ]
  },
  {
   "cell_type": "markdown",
   "metadata": {},
   "source": [
    "### Regresión logística con otros parámetros"
   ]
  },
  {
   "cell_type": "code",
   "execution_count": 14,
   "metadata": {},
   "outputs": [],
   "source": [
    "lr_params = {\n",
    "    'C': 0.1,                   # Regularization strength; must be a positive float. Smaller values specify stronger regularization.\n",
    "    'solver': 'lbfgs',          # Solver to use for optimization. 'lbfgs' is suitable for multiclass problems.\n",
    "    'max_iter': 2000,           # Maximum number of iterations to converge.\n",
    "    'multi_class': 'multinomial',  # Strategy to handle multiclass classification.\n",
    "    'random_state': 95,          # Random state for reproducibility.\n",
    "    'class_weight': 'balanced'  # Weights associated with classes; 'balanced' automatically adjusts weights inversely proportional to class frequencies\n",
    "}"
   ]
  },
  {
   "cell_type": "code",
   "execution_count": 16,
   "metadata": {},
   "outputs": [],
   "source": [
    "# Create a ModelWrapper instance for the LogisticRegression model\n",
    "lr_wrapper = models.ModelWrapper(\n",
    "    model_class=LogisticRegression,\n",
    "    params=lr_params,\n",
    "    name='logistic_regression_multiclass'\n",
    ")"
   ]
  },
  {
   "cell_type": "code",
   "execution_count": 17,
   "metadata": {},
   "outputs": [
    {
     "name": "stderr",
     "output_type": "stream",
     "text": [
      "/home/carroyo/personal_python_projects/predictive-maintenance-milling/tmp/venv/lib/python3.11/site-packages/sklearn/linear_model/_logistic.py:1247: FutureWarning: 'multi_class' was deprecated in version 1.5 and will be removed in 1.7. From then on, it will always use 'multinomial'. Leave it to its default value to avoid this warning.\n",
      "  warnings.warn(\n"
     ]
    },
    {
     "name": "stdout",
     "output_type": "stream",
     "text": [
      "logistic_regression_multiclass model fitted.\n",
      "Accuracy for logistic_regression_multiclass: 0.573\n",
      "Classification Report for logistic_regression_multiclass:\n",
      "              precision    recall  f1-score   support\n",
      "\n",
      "           0       1.00      0.56      0.72      1930\n",
      "           1       0.05      0.89      0.09         9\n",
      "           2       0.19      0.90      0.31        21\n",
      "           3       0.31      1.00      0.48        16\n",
      "           4       0.19      0.88      0.31        16\n",
      "           5       0.00      0.33      0.00         3\n",
      "           6       0.33      0.60      0.43         5\n",
      "\n",
      "    accuracy                           0.57      2000\n",
      "   macro avg       0.30      0.74      0.33      2000\n",
      "weighted avg       0.97      0.57      0.71      2000\n",
      "\n",
      "\n",
      "Confusion Matrix for logistic_regression_multiclass:\n",
      "[[1085  166   81   35   57  502    4]\n",
      " [   0    8    0    0    1    0    0]\n",
      " [   0    2   19    0    0    0    0]\n",
      " [   0    0    0   16    0    0    0]\n",
      " [   0    0    0    0   14    0    2]\n",
      " [   2    0    0    0    0    1    0]\n",
      " [   0    0    0    0    2    0    3]]\n"
     ]
    }
   ],
   "source": [
    "# Fit the model\n",
    "lr_wrapper.fit(X_train, y_train)\n",
    "\n",
    "# Evaluate the model\n",
    "_ = lr_wrapper.evaluate(X_test, y_test)"
   ]
  },
  {
   "cell_type": "markdown",
   "metadata": {},
   "source": [
    "## Random Forest"
   ]
  },
  {
   "cell_type": "code",
   "execution_count": 18,
   "metadata": {},
   "outputs": [],
   "source": [
    "# Define the hyperparameters for RandomForestClassifier\n",
    "rf_params = {\n",
    "    'n_estimators': 200,           # Number of trees in the forest\n",
    "    'max_depth': None,             # Maximum depth of the trees (None means nodes are expanded until all leaves are pure or until all leaves contain less than min_samples_split samples)\n",
    "    'min_samples_split': 2,        # Minimum number of samples required to split an internal node\n",
    "    'min_samples_leaf': 1,         # Minimum number of samples required to be at a leaf node\n",
    "    'max_features': 'sqrt',        # Number of features to consider when looking for the best split (sqrt means max_features = sqrt(n_features))\n",
    "    'bootstrap': True,             # Whether bootstrap samples are used when building trees\n",
    "    'random_state': 95,            # Seed for reproducibility\n",
    "    'class_weight': 'balanced'     # Weighs classes inversely proportional to their frequency\n",
    "}"
   ]
  },
  {
   "cell_type": "code",
   "execution_count": 19,
   "metadata": {},
   "outputs": [],
   "source": [
    "rf_wrapper = models.ModelWrapper(\n",
    "    model_class=RandomForestClassifier,\n",
    "    params=rf_params,\n",
    "    name='random_forest_multiclass'\n",
    ")"
   ]
  },
  {
   "cell_type": "code",
   "execution_count": 20,
   "metadata": {},
   "outputs": [
    {
     "name": "stdout",
     "output_type": "stream",
     "text": [
      "random_forest_multiclass model fitted.\n",
      "Accuracy for random_forest_multiclass: 0.985\n",
      "Classification Report for random_forest_multiclass:\n",
      "              precision    recall  f1-score   support\n",
      "\n",
      "           0       0.99      1.00      0.99      1930\n",
      "           1       0.00      0.00      0.00         9\n",
      "           2       0.88      0.71      0.79        21\n",
      "           3       1.00      1.00      1.00        16\n",
      "           4       1.00      0.44      0.61        16\n",
      "           5       0.00      0.00      0.00         3\n",
      "           6       1.00      0.80      0.89         5\n",
      "\n",
      "    accuracy                           0.98      2000\n",
      "   macro avg       0.70      0.56      0.61      2000\n",
      "weighted avg       0.98      0.98      0.98      2000\n",
      "\n",
      "\n",
      "Confusion Matrix for random_forest_multiclass:\n",
      "[[1928    0    2    0    0    0    0]\n",
      " [   9    0    0    0    0    0    0]\n",
      " [   6    0   15    0    0    0    0]\n",
      " [   0    0    0   16    0    0    0]\n",
      " [   9    0    0    0    7    0    0]\n",
      " [   3    0    0    0    0    0    0]\n",
      " [   1    0    0    0    0    0    4]]\n"
     ]
    },
    {
     "name": "stderr",
     "output_type": "stream",
     "text": [
      "/home/carroyo/personal_python_projects/predictive-maintenance-milling/tmp/venv/lib/python3.11/site-packages/sklearn/metrics/_classification.py:1531: UndefinedMetricWarning: Precision is ill-defined and being set to 0.0 in labels with no predicted samples. Use `zero_division` parameter to control this behavior.\n",
      "  _warn_prf(average, modifier, f\"{metric.capitalize()} is\", len(result))\n",
      "/home/carroyo/personal_python_projects/predictive-maintenance-milling/tmp/venv/lib/python3.11/site-packages/sklearn/metrics/_classification.py:1531: UndefinedMetricWarning: Precision is ill-defined and being set to 0.0 in labels with no predicted samples. Use `zero_division` parameter to control this behavior.\n",
      "  _warn_prf(average, modifier, f\"{metric.capitalize()} is\", len(result))\n",
      "/home/carroyo/personal_python_projects/predictive-maintenance-milling/tmp/venv/lib/python3.11/site-packages/sklearn/metrics/_classification.py:1531: UndefinedMetricWarning: Precision is ill-defined and being set to 0.0 in labels with no predicted samples. Use `zero_division` parameter to control this behavior.\n",
      "  _warn_prf(average, modifier, f\"{metric.capitalize()} is\", len(result))\n"
     ]
    }
   ],
   "source": [
    "# Fit the model\n",
    "rf_wrapper.fit(X_train, y_train)\n",
    "\n",
    "# Evaluate the model\n",
    "_ = rf_wrapper.evaluate(X_test, y_test)"
   ]
  },
  {
   "cell_type": "code",
   "execution_count": 21,
   "metadata": {},
   "outputs": [
    {
     "data": {
      "text/plain": [
       "array([0.06480933, 0.05706131, 0.13145183, 0.17786765, 0.23522541,\n",
       "       0.14412668, 0.18945778])"
      ]
     },
     "execution_count": 21,
     "metadata": {},
     "output_type": "execute_result"
    }
   ],
   "source": [
    "rf_wrapper.model.feature_importances_"
   ]
  },
  {
   "cell_type": "markdown",
   "metadata": {},
   "source": [
    "# Random Forest Classifier con otros parametros"
   ]
  },
  {
   "cell_type": "code",
   "execution_count": 22,
   "metadata": {},
   "outputs": [],
   "source": [
    "# clf = RandomForestClassifier(\n",
    "#     n_estimators=200,\n",
    "#     max_depth=15,\n",
    "#     min_samples_leaf=5,\n",
    "#     min_samples_split=10,\n",
    "#     class_weight='balanced',\n",
    "#     max_features='sqrt',\n",
    "#     oob_score=True,\n",
    "#     random_state=42\n",
    "# )\n",
    "\n",
    "# Provide the parameters as a dictionary called rfc_params\n",
    "rfc_params = {\n",
    "    'n_estimators': 400,\n",
    "    'max_depth': 20,\n",
    "    'min_samples_leaf': 10,\n",
    "    'min_samples_split': 20,\n",
    "    'class_weight': 'balanced',\n",
    "    'max_features': 5,\n",
    "    # 'oob_score': True,\n",
    "    'random_state': 95,\n",
    "    'criterion': 'gini'\n",
    "}"
   ]
  },
  {
   "cell_type": "code",
   "execution_count": 23,
   "metadata": {},
   "outputs": [],
   "source": [
    "rfc_wrapper = models.ModelWrapper(\n",
    "    model_class=RandomForestClassifier,\n",
    "    params=rfc_params,\n",
    "    name='random_forest_good_par'\n",
    ")"
   ]
  },
  {
   "cell_type": "code",
   "execution_count": 24,
   "metadata": {},
   "outputs": [
    {
     "name": "stdout",
     "output_type": "stream",
     "text": [
      "random_forest_good_par model fitted.\n",
      "Accuracy for random_forest_good_par: 0.976\n",
      "Classification Report for random_forest_good_par:\n",
      "              precision    recall  f1-score   support\n",
      "\n",
      "           0       0.99      0.98      0.99      1930\n",
      "           1       0.07      0.11      0.08         9\n",
      "           2       0.83      0.95      0.89        21\n",
      "           3       0.94      1.00      0.97        16\n",
      "           4       0.54      0.94      0.68        16\n",
      "           5       0.00      0.00      0.00         3\n",
      "           6       0.50      0.80      0.62         5\n",
      "\n",
      "    accuracy                           0.98      2000\n",
      "   macro avg       0.55      0.68      0.60      2000\n",
      "weighted avg       0.98      0.98      0.98      2000\n",
      "\n",
      "\n",
      "Confusion Matrix for random_forest_good_par:\n",
      "[[1896   14    3    1   13    1    2]\n",
      " [   8    1    0    0    0    0    0]\n",
      " [   0    0   20    0    0    0    1]\n",
      " [   0    0    0   16    0    0    0]\n",
      " [   0    0    0    0   15    0    1]\n",
      " [   3    0    0    0    0    0    0]\n",
      " [   0    0    1    0    0    0    4]]\n"
     ]
    }
   ],
   "source": [
    "rfc_wrapper.fit(X_train, y_train)\n",
    "\n",
    "_ = rfc_wrapper.evaluate(X_test, y_test)"
   ]
  },
  {
   "cell_type": "code",
   "execution_count": 25,
   "metadata": {},
   "outputs": [
    {
     "data": {
      "text/plain": [
       "array([0.04625648, 0.04206303, 0.0852485 , 0.17710511, 0.23612452,\n",
       "       0.17092161, 0.24228075])"
      ]
     },
     "execution_count": 25,
     "metadata": {},
     "output_type": "execute_result"
    }
   ],
   "source": [
    "rfc_wrapper.model.feature_importances_"
   ]
  },
  {
   "cell_type": "markdown",
   "metadata": {},
   "source": [
    "# SVM"
   ]
  },
  {
   "cell_type": "code",
   "execution_count": 27,
   "metadata": {},
   "outputs": [],
   "source": [
    "# Define the hyperparameters for SVC\n",
    "svc_params = {\n",
    "    'C': 1.0,                   # Regularization parameter, controls the trade-off between achieving a low error on training data and minimizing the norm of the weights\n",
    "    'kernel': 'rbf',            # Specifies the kernel type to be used in the algorithm ('rbf' for non-linear decision boundaries)\n",
    "    'gamma': 'scale',           # Kernel coefficient; 'scale' uses 1 / (n_features * X.var()) as value\n",
    "    'decision_function_shape': 'ovr',  # One-vs-rest strategy for multiclass classification\n",
    "    'class_weight': 'balanced', # Adjusts weights inversely proportional to class frequencies\n",
    "    'random_state': 95          # Seed for reproducibility\n",
    "}"
   ]
  },
  {
   "cell_type": "code",
   "execution_count": 28,
   "metadata": {},
   "outputs": [],
   "source": [
    "svc_wrapper = models.ModelWrapper(\n",
    "    model_class=SVC,\n",
    "    params=svc_params,\n",
    "    name='svc_multiclass'\n",
    ")"
   ]
  },
  {
   "cell_type": "code",
   "execution_count": 29,
   "metadata": {},
   "outputs": [
    {
     "name": "stdout",
     "output_type": "stream",
     "text": [
      "svc_multiclass model fitted.\n",
      "Accuracy for svc_multiclass: 0.7935\n",
      "Classification Report for svc_multiclass:\n",
      "              precision    recall  f1-score   support\n",
      "\n",
      "           0       1.00      0.79      0.88      1930\n",
      "           1       0.05      0.78      0.09         9\n",
      "           2       0.35      0.95      0.51        21\n",
      "           3       0.44      1.00      0.62        16\n",
      "           4       0.29      0.81      0.43        16\n",
      "           5       0.00      0.00      0.00         3\n",
      "           6       0.71      1.00      0.83         5\n",
      "\n",
      "    accuracy                           0.79      2000\n",
      "   macro avg       0.41      0.76      0.48      2000\n",
      "weighted avg       0.97      0.79      0.87      2000\n",
      "\n",
      "\n",
      "Confusion Matrix for svc_multiclass:\n",
      "[[1526  135   36   20   30  183    0]\n",
      " [   0    7    0    0    2    0    0]\n",
      " [   0    0   20    0    0    0    1]\n",
      " [   0    0    0   16    0    0    0]\n",
      " [   1    0    1    0   13    0    1]\n",
      " [   3    0    0    0    0    0    0]\n",
      " [   0    0    0    0    0    0    5]]\n"
     ]
    }
   ],
   "source": [
    "# Fit the model\n",
    "svc_wrapper.fit(X_train, y_train)\n",
    "\n",
    "# Evaluate the model\n",
    "_ = svc_wrapper.evaluate(X_test, y_test)"
   ]
  },
  {
   "cell_type": "markdown",
   "metadata": {},
   "source": [
    "### SVM con otros parámetros"
   ]
  },
  {
   "cell_type": "code",
   "execution_count": 30,
   "metadata": {},
   "outputs": [],
   "source": [
    "# Define the hyperparameters for SVC\n",
    "svc_params = {\n",
    "    'C': 60.0,   # 50                # Regularization parameter, controls the trade-off between achieving a low error on training data and minimizing the norm of the weights\n",
    "    'kernel': 'rbf',            # Specifies the kernel type to be used in the algorithm ('rbf' for non-linear decision boundaries)\n",
    "    'gamma': 'scale',           # Kernel coefficient; 'scale' uses 1 / (n_features * X.var()) as value\n",
    "    'decision_function_shape': 'ovr',  # One-vs-rest strategy for multiclass classification\n",
    "    'class_weight': 'balanced', # Adjusts weights inversely proportional to class frequencies\n",
    "    'random_state': 95          # Seed for reproducibility\n",
    "}"
   ]
  },
  {
   "cell_type": "code",
   "execution_count": 32,
   "metadata": {},
   "outputs": [],
   "source": [
    "svc_wrapper = models.ModelWrapper(\n",
    "    model_class=SVC,\n",
    "    params=svc_params,\n",
    "    name='svc_multiclass'\n",
    ")"
   ]
  },
  {
   "cell_type": "code",
   "execution_count": 33,
   "metadata": {},
   "outputs": [
    {
     "name": "stdout",
     "output_type": "stream",
     "text": [
      "svc_multiclass model fitted.\n",
      "Accuracy for svc_multiclass: 0.94\n",
      "Classification Report for svc_multiclass:\n",
      "              precision    recall  f1-score   support\n",
      "\n",
      "           0       0.99      0.95      0.97      1930\n",
      "           1       0.12      0.67      0.21         9\n",
      "           2       0.68      0.81      0.74        21\n",
      "           3       0.72      0.81      0.76        16\n",
      "           4       0.67      0.75      0.71        16\n",
      "           5       0.00      0.00      0.00         3\n",
      "           6       0.71      1.00      0.83         5\n",
      "\n",
      "    accuracy                           0.94      2000\n",
      "   macro avg       0.56      0.71      0.60      2000\n",
      "weighted avg       0.98      0.94      0.96      2000\n",
      "\n",
      "\n",
      "Confusion Matrix for svc_multiclass:\n",
      "[[1827   43    8    5    5   42    0]\n",
      " [   2    6    0    0    1    0    0]\n",
      " [   3    0   17    0    0    0    1]\n",
      " [   3    0    0   13    0    0    0]\n",
      " [   3    0    0    0   12    0    1]\n",
      " [   3    0    0    0    0    0    0]\n",
      " [   0    0    0    0    0    0    5]]\n"
     ]
    }
   ],
   "source": [
    "# Fit the model\n",
    "svc_wrapper.fit(X_train, y_train)\n",
    "\n",
    "# Evaluate the model\n",
    "_ = svc_wrapper.evaluate(X_test, y_test)"
   ]
  },
  {
   "cell_type": "code",
   "execution_count": 34,
   "metadata": {},
   "outputs": [],
   "source": [
    "import numpy as np\n",
    "import matplotlib.pyplot as plt"
   ]
  },
  {
   "cell_type": "code",
   "execution_count": 35,
   "metadata": {},
   "outputs": [
    {
     "name": "stderr",
     "output_type": "stream",
     "text": [
      "/home/carroyo/personal_python_projects/predictive-maintenance-milling/tmp/venv/lib/python3.11/site-packages/sklearn/base.py:493: UserWarning: X does not have valid feature names, but SVC was fitted with feature names\n",
      "  warnings.warn(\n"
     ]
    }
   ],
   "source": [
    "mymodel = SVC(**svc_params)\n",
    "\n",
    "\n",
    "# Assuming `svc_model` is your trained SVC model\n",
    "# `X_test` and `y_test` are your test dataset features and labels\n",
    "# Selecting two features for visualization\n",
    "feature_indices = ['Torque [Nm]', 'Rotational speed [rpm]']  # Replace with the indices of the features you want to visualize\n",
    "mymodel.fit(X_train.loc[:, feature_indices], y_train)\n",
    "X_test_selected = X_test.loc[:, feature_indices]\n",
    "\n",
    "# Create a mesh grid for plotting decision regions\n",
    "x_min, x_max = X_test_selected.iloc[:, 0].min() - 1, X_test_selected.iloc[:, 0].max() + 1\n",
    "y_min, y_max = X_test_selected.iloc[:, 1].min() - 1, X_test_selected.iloc[:, 1].max() + 1\n",
    "xx, yy = np.meshgrid(np.arange(x_min, x_max, 0.01),\n",
    "                     np.arange(y_min, y_max, 0.01))\n",
    "\n",
    "# Predict the label for each point in the mesh grid\n",
    "Z = mymodel.predict(np.c_[xx.ravel(), yy.ravel()])\n",
    "Z = Z.reshape(xx.shape)"
   ]
  },
  {
   "cell_type": "code",
   "execution_count": 36,
   "metadata": {},
   "outputs": [
    {
     "data": {
      "image/png": "[encoded data removed]",
      "text/plain": [
       "<Figure size 640x480 with 2 Axes>"
      ]
     },
     "metadata": {},
     "output_type": "display_data"
    }
   ],
   "source": [
    "# Plot the decision boundary and the test points\n",
    "plt.contourf(xx, yy, Z, alpha=0.8, cmap=plt.cm.coolwarm)\n",
    "plt.scatter(X_test_selected.iloc[:, 0], X_test_selected.iloc[:, 1], c=y_test, edgecolors='k', marker='o', cmap=plt.cm.coolwarm, s=10)\n",
    "plt.xlabel(f'Feature {feature_indices[0]}')\n",
    "plt.ylabel(f'Feature {feature_indices[1]}')\n",
    "plt.title('SVC Decision Boundary')\n",
    "plt.colorbar()\n",
    "plt.show()"
   ]
  },
  {
   "cell_type": "markdown",
   "metadata": {},
   "source": [
    "### With SMOTE"
   ]
  },
  {
   "cell_type": "code",
   "execution_count": 37,
   "metadata": {},
   "outputs": [
    {
     "name": "stdout",
     "output_type": "stream",
     "text": [
      "svc_multiclass_smote model fitted.\n",
      "Accuracy for svc_multiclass_smote: 0.912\n",
      "Classification Report for svc_multiclass_smote:\n",
      "              precision    recall  f1-score   support\n",
      "\n",
      "           0       0.99      0.92      0.95      1930\n",
      "           1       0.10      0.67      0.18         9\n",
      "           2       0.69      0.86      0.77        21\n",
      "           3       0.78      0.88      0.82        16\n",
      "           4       0.72      0.81      0.76        16\n",
      "           5       0.00      0.00      0.00         3\n",
      "           6       0.67      0.80      0.73         5\n",
      "\n",
      "    accuracy                           0.91      2000\n",
      "   macro avg       0.56      0.70      0.60      2000\n",
      "weighted avg       0.98      0.91      0.94      2000\n",
      "\n",
      "\n",
      "Confusion Matrix for svc_multiclass_smote:\n",
      "[[1769   53    8    3    4   93    0]\n",
      " [   2    6    0    0    1    0    0]\n",
      " [   3    0   18    0    0    0    0]\n",
      " [   2    0    0   14    0    0    0]\n",
      " [   1    0    0    0   13    0    2]\n",
      " [   3    0    0    0    0    0    0]\n",
      " [   0    0    0    1    0    0    4]]\n"
     ]
    }
   ],
   "source": [
    "# Fit the model\n",
    "svc_wrapper.fit(X_train, y_train, sampling_strategy=\"smote\")\n",
    "\n",
    "# Evaluate the model\n",
    "_ = svc_wrapper.evaluate(X_test, y_test)"
   ]
  },
  {
   "cell_type": "markdown",
   "metadata": {},
   "source": [
    "# SVM grid search"
   ]
  },
  {
   "cell_type": "code",
   "execution_count": 38,
   "metadata": {},
   "outputs": [],
   "source": [
    "from sklearn.model_selection import GridSearchCV\n",
    "from sklearn.metrics import make_scorer, recall_score, precision_score, f1_score"
   ]
  },
  {
   "cell_type": "code",
   "execution_count": 39,
   "metadata": {},
   "outputs": [
    {
     "name": "stdout",
     "output_type": "stream",
     "text": [
      "{'C': array([ 50.,  60.,  70.,  80.,  90., 100., 110., 120., 130., 140., 150.,\n",
      "       160., 170., 180., 190., 200.]), 'kernel': ['rbf'], 'gamma': ['scale'], 'decision_function_shape': ['ovr'], 'class_weight': ['balanced'], 'random_state': [95]}\n"
     ]
    }
   ],
   "source": [
    "# Define the parameter grid\n",
    "# param_grid = {'C': np.logspace(0, 2, num=10)}\n",
    "param_grid = {'C': np.linspace(50.0, 200.0, num=16), \n",
    "                  'kernel': ['rbf'],            # Specifies the kernel type to be used in the algorithm ('rbf' for non-linear decision boundaries)\n",
    "    'gamma': ['scale'],           # Kernel coefficient; 'scale' uses 1 / (n_features * X.var()) as value\n",
    "    'decision_function_shape': ['ovr'],  # One-vs-rest strategy for multiclass classification\n",
    "    'class_weight': ['balanced'], # Adjusts weights inversely proportional to class frequencies\n",
    "    'random_state': [95]  }\n",
    "\n",
    "print(param_grid)"
   ]
  },
  {
   "cell_type": "code",
   "execution_count": 40,
   "metadata": {},
   "outputs": [
    {
     "name": "stdout",
     "output_type": "stream",
     "text": [
      "Fitting 5 folds for each of 16 candidates, totalling 80 fits\n",
      "Best parameters found:  {'C': 190.0, 'class_weight': 'balanced', 'decision_function_shape': 'ovr', 'gamma': 'scale', 'kernel': 'rbf', 'random_state': 95}\n",
      "Best recall score:  0.5672307215329471\n"
     ]
    }
   ],
   "source": [
    "\n",
    "# Initialize the SVC model\n",
    "svc = SVC()\n",
    "\n",
    "# Define the scoring metric. Here we use 'f1' but you can also use 'recall' or 'precision'\n",
    "scorer = make_scorer(f1_score, average='macro')\n",
    "\n",
    "# Initialize GridSearchCV with cross-validation\n",
    "grid_search = GridSearchCV(estimator=svc, param_grid=param_grid, scoring=scorer, cv=5, verbose=1)\n",
    "\n",
    "# Fit the model\n",
    "grid_search.fit(X_train, y_train)\n",
    "\n",
    "# Output the best parameters and the corresponding score\n",
    "print(\"Best parameters found: \", grid_search.best_params_)\n",
    "print(\"Best recall score: \", grid_search.best_score_)\n",
    "\n",
    "# For precision-focused scoring, you could use:\n",
    "# scorer = make_scorer(precision_score, average='macro')\n"
   ]
  },
  {
   "cell_type": "markdown",
   "metadata": {},
   "source": [
    "# Redes neuronales\n",
    "\n",
    "Estas son exploradas en `neural_networks_testing.ipynb`."
   ]
  }
 ],
 "metadata": {
  "kernelspec": {
   "display_name": "venv",
   "language": "python",
   "name": "python3"
  },
  "language_info": {
   "codemirror_mode": {
    "name": "ipython",
    "version": 3
   },
   "file_extension": ".py",
   "mimetype": "text/x-python",
   "name": "python",
   "nbconvert_exporter": "python",
   "pygments_lexer": "ipython3",
   "version": "3.11.9"
  }
 },
 "nbformat": 4,
 "nbformat_minor": 2
}
